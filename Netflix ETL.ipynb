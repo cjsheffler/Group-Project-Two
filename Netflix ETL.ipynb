{
 "cells": [
  {
   "cell_type": "code",
   "execution_count": 1,
   "metadata": {},
   "outputs": [],
   "source": [
    "import pandas as pd\n",
    "from sqlalchemy import create_engine\n",
    "from scipy.stats import linregress\n",
    "import numpy as np\n",
    "import psycopg2\n",
    "import matplotlib.pyplot as plt"
   ]
  },
  {
   "cell_type": "markdown",
   "metadata": {},
   "source": [
    "Extract CSV files into DataFrames"
   ]
  },
  {
   "cell_type": "code",
   "execution_count": 2,
   "metadata": {},
   "outputs": [
    {
     "data": {
      "text/html": [
       "<div>\n",
       "<style scoped>\n",
       "    .dataframe tbody tr th:only-of-type {\n",
       "        vertical-align: middle;\n",
       "    }\n",
       "\n",
       "    .dataframe tbody tr th {\n",
       "        vertical-align: top;\n",
       "    }\n",
       "\n",
       "    .dataframe thead th {\n",
       "        text-align: right;\n",
       "    }\n",
       "</style>\n",
       "<table border=\"1\" class=\"dataframe\">\n",
       "  <thead>\n",
       "    <tr style=\"text-align: right;\">\n",
       "      <th></th>\n",
       "      <th>Unnamed: 0</th>\n",
       "      <th>show_id</th>\n",
       "      <th>type</th>\n",
       "      <th>title</th>\n",
       "      <th>director</th>\n",
       "      <th>cast</th>\n",
       "      <th>country</th>\n",
       "      <th>date_added</th>\n",
       "      <th>release_year</th>\n",
       "      <th>rating</th>\n",
       "      <th>duration</th>\n",
       "      <th>listed_in</th>\n",
       "      <th>description</th>\n",
       "    </tr>\n",
       "  </thead>\n",
       "  <tbody>\n",
       "    <tr>\n",
       "      <th>0</th>\n",
       "      <td>4</td>\n",
       "      <td>80125979</td>\n",
       "      <td>Movie</td>\n",
       "      <td>#realityhigh</td>\n",
       "      <td>Fernando Lebrija</td>\n",
       "      <td>Nesta Cooper, Kate Walsh, John Michael Higgins...</td>\n",
       "      <td>United States</td>\n",
       "      <td>September 8, 2017</td>\n",
       "      <td>2017</td>\n",
       "      <td>TV-14</td>\n",
       "      <td>99 min</td>\n",
       "      <td>Comedies</td>\n",
       "      <td>When nerdy high schooler Dani finally attracts...</td>\n",
       "    </tr>\n",
       "    <tr>\n",
       "      <th>1</th>\n",
       "      <td>20</td>\n",
       "      <td>80060297</td>\n",
       "      <td>Movie</td>\n",
       "      <td>Manhattan Romance</td>\n",
       "      <td>Tom O'Brien</td>\n",
       "      <td>Tom O'Brien, Katherine Waterston, Caitlin Fitz...</td>\n",
       "      <td>United States</td>\n",
       "      <td>September 8, 2017</td>\n",
       "      <td>2014</td>\n",
       "      <td>TV-14</td>\n",
       "      <td>98 min</td>\n",
       "      <td>Comedies, Independent Movies, Romantic Movies</td>\n",
       "      <td>A filmmaker working on a documentary about lov...</td>\n",
       "    </tr>\n",
       "  </tbody>\n",
       "</table>\n",
       "</div>"
      ],
      "text/plain": [
       "   Unnamed: 0   show_id   type              title          director  \\\n",
       "0           4  80125979  Movie       #realityhigh  Fernando Lebrija   \n",
       "1          20  80060297  Movie  Manhattan Romance       Tom O'Brien   \n",
       "\n",
       "                                                cast        country  \\\n",
       "0  Nesta Cooper, Kate Walsh, John Michael Higgins...  United States   \n",
       "1  Tom O'Brien, Katherine Waterston, Caitlin Fitz...  United States   \n",
       "\n",
       "          date_added  release_year rating duration  \\\n",
       "0  September 8, 2017          2017  TV-14   99 min   \n",
       "1  September 8, 2017          2014  TV-14   98 min   \n",
       "\n",
       "                                       listed_in  \\\n",
       "0                                       Comedies   \n",
       "1  Comedies, Independent Movies, Romantic Movies   \n",
       "\n",
       "                                         description  \n",
       "0  When nerdy high schooler Dani finally attracts...  \n",
       "1  A filmmaker working on a documentary about lov...  "
      ]
     },
     "execution_count": 2,
     "metadata": {},
     "output_type": "execute_result"
    }
   ],
   "source": [
    "netflix_file = \"Resources/netflix_data_clean.csv\"\n",
    "netflix_df = pd.read_csv(netflix_file)\n",
    "netflix_df.head(2)"
   ]
  },
  {
   "cell_type": "code",
   "execution_count": 3,
   "metadata": {},
   "outputs": [
    {
     "data": {
      "text/html": [
       "<div>\n",
       "<style scoped>\n",
       "    .dataframe tbody tr th:only-of-type {\n",
       "        vertical-align: middle;\n",
       "    }\n",
       "\n",
       "    .dataframe tbody tr th {\n",
       "        vertical-align: top;\n",
       "    }\n",
       "\n",
       "    .dataframe thead th {\n",
       "        text-align: right;\n",
       "    }\n",
       "</style>\n",
       "<table border=\"1\" class=\"dataframe\">\n",
       "  <thead>\n",
       "    <tr style=\"text-align: right;\">\n",
       "      <th></th>\n",
       "      <th>Unnamed: 0</th>\n",
       "      <th>title</th>\n",
       "      <th>genre</th>\n",
       "      <th>language</th>\n",
       "      <th>awards</th>\n",
       "      <th>metascore</th>\n",
       "      <th>boxoffice</th>\n",
       "      <th>production</th>\n",
       "      <th>imdbrating</th>\n",
       "      <th>imdbvotes</th>\n",
       "      <th>imdbid</th>\n",
       "    </tr>\n",
       "  </thead>\n",
       "  <tbody>\n",
       "    <tr>\n",
       "      <th>0</th>\n",
       "      <td>1</td>\n",
       "      <td>Manhattan Romance</td>\n",
       "      <td>Comedy, Drama, Romance</td>\n",
       "      <td>English</td>\n",
       "      <td>3 wins.</td>\n",
       "      <td>NaN</td>\n",
       "      <td>NaN</td>\n",
       "      <td>Beacon Films Inc.</td>\n",
       "      <td>5.5</td>\n",
       "      <td>1,122</td>\n",
       "      <td>tt2608324</td>\n",
       "    </tr>\n",
       "    <tr>\n",
       "      <th>1</th>\n",
       "      <td>2</td>\n",
       "      <td>Stonehearst Asylum</td>\n",
       "      <td>Drama, Horror, Thriller</td>\n",
       "      <td>English</td>\n",
       "      <td>1 win &amp; 1 nomination.</td>\n",
       "      <td>52.0</td>\n",
       "      <td>NaN</td>\n",
       "      <td>Millenium Entertainment</td>\n",
       "      <td>6.8</td>\n",
       "      <td>48,493</td>\n",
       "      <td>tt1772264</td>\n",
       "    </tr>\n",
       "  </tbody>\n",
       "</table>\n",
       "</div>"
      ],
      "text/plain": [
       "   Unnamed: 0               title                    genre language  \\\n",
       "0           1   Manhattan Romance   Comedy, Drama, Romance  English   \n",
       "1           2  Stonehearst Asylum  Drama, Horror, Thriller  English   \n",
       "\n",
       "                  awards  metascore boxoffice               production  \\\n",
       "0                3 wins.        NaN       NaN        Beacon Films Inc.   \n",
       "1  1 win & 1 nomination.       52.0       NaN  Millenium Entertainment   \n",
       "\n",
       "   imdbrating imdbvotes     imdbid  \n",
       "0         5.5     1,122  tt2608324  \n",
       "1         6.8    48,493  tt1772264  "
      ]
     },
     "execution_count": 3,
     "metadata": {},
     "output_type": "execute_result"
    }
   ],
   "source": [
    "omdb_file = \"Resources/omdb_data_clean.csv\"\n",
    "omdb_df = pd.read_csv(omdb_file)\n",
    "omdb_df.head(2)"
   ]
  },
  {
   "cell_type": "code",
   "execution_count": 4,
   "metadata": {},
   "outputs": [
    {
     "data": {
      "text/html": [
       "<div>\n",
       "<style scoped>\n",
       "    .dataframe tbody tr th:only-of-type {\n",
       "        vertical-align: middle;\n",
       "    }\n",
       "\n",
       "    .dataframe tbody tr th {\n",
       "        vertical-align: top;\n",
       "    }\n",
       "\n",
       "    .dataframe thead th {\n",
       "        text-align: right;\n",
       "    }\n",
       "</style>\n",
       "<table border=\"1\" class=\"dataframe\">\n",
       "  <thead>\n",
       "    <tr style=\"text-align: right;\">\n",
       "      <th></th>\n",
       "      <th>Unnamed: 0</th>\n",
       "      <th>title</th>\n",
       "      <th>original_title</th>\n",
       "      <th>popularity</th>\n",
       "      <th>vote_count</th>\n",
       "      <th>vote_average</th>\n",
       "      <th>poster_path</th>\n",
       "    </tr>\n",
       "  </thead>\n",
       "  <tbody>\n",
       "    <tr>\n",
       "      <th>0</th>\n",
       "      <td>1</td>\n",
       "      <td>Manhattan Romance</td>\n",
       "      <td>Manhattan Romance</td>\n",
       "      <td>3.765</td>\n",
       "      <td>24</td>\n",
       "      <td>4.8</td>\n",
       "      <td>na</td>\n",
       "    </tr>\n",
       "    <tr>\n",
       "      <th>1</th>\n",
       "      <td>2</td>\n",
       "      <td>Stonehearst Asylum</td>\n",
       "      <td>Stonehearst Asylum</td>\n",
       "      <td>17.405</td>\n",
       "      <td>817</td>\n",
       "      <td>6.7</td>\n",
       "      <td>https://image.tmdb.org/t/p/w500/fZxGCCQ0NAtrae...</td>\n",
       "    </tr>\n",
       "  </tbody>\n",
       "</table>\n",
       "</div>"
      ],
      "text/plain": [
       "   Unnamed: 0               title      original_title  popularity  vote_count  \\\n",
       "0           1   Manhattan Romance   Manhattan Romance       3.765          24   \n",
       "1           2  Stonehearst Asylum  Stonehearst Asylum      17.405         817   \n",
       "\n",
       "   vote_average                                        poster_path  \n",
       "0           4.8                                                 na  \n",
       "1           6.7  https://image.tmdb.org/t/p/w500/fZxGCCQ0NAtrae...  "
      ]
     },
     "execution_count": 4,
     "metadata": {},
     "output_type": "execute_result"
    }
   ],
   "source": [
    "tmdb_file = \"Resources/tmdb_data_clean.csv\"\n",
    "tmdb_df = pd.read_csv(tmdb_file)\n",
    "tmdb_df.head(2)"
   ]
  },
  {
   "cell_type": "markdown",
   "metadata": {},
   "source": [
    "Transform Netflix and the Open Movie DB DataFrames"
   ]
  },
  {
   "cell_type": "code",
   "execution_count": 5,
   "metadata": {},
   "outputs": [
    {
     "data": {
      "text/html": [
       "<div>\n",
       "<style scoped>\n",
       "    .dataframe tbody tr th:only-of-type {\n",
       "        vertical-align: middle;\n",
       "    }\n",
       "\n",
       "    .dataframe tbody tr th {\n",
       "        vertical-align: top;\n",
       "    }\n",
       "\n",
       "    .dataframe thead th {\n",
       "        text-align: right;\n",
       "    }\n",
       "</style>\n",
       "<table border=\"1\" class=\"dataframe\">\n",
       "  <thead>\n",
       "    <tr style=\"text-align: right;\">\n",
       "      <th></th>\n",
       "      <th>title</th>\n",
       "      <th>director</th>\n",
       "      <th>cast_members</th>\n",
       "      <th>year_released</th>\n",
       "      <th>netflix_genre</th>\n",
       "      <th>rating</th>\n",
       "      <th>duration</th>\n",
       "      <th>description</th>\n",
       "    </tr>\n",
       "    <tr>\n",
       "      <th>id</th>\n",
       "      <th></th>\n",
       "      <th></th>\n",
       "      <th></th>\n",
       "      <th></th>\n",
       "      <th></th>\n",
       "      <th></th>\n",
       "      <th></th>\n",
       "      <th></th>\n",
       "    </tr>\n",
       "  </thead>\n",
       "  <tbody>\n",
       "    <tr>\n",
       "      <th>80125979</th>\n",
       "      <td>#realityhigh</td>\n",
       "      <td>Fernando Lebrija</td>\n",
       "      <td>Nesta Cooper, Kate Walsh, John Michael Higgins...</td>\n",
       "      <td>2017</td>\n",
       "      <td>Comedies</td>\n",
       "      <td>TV-14</td>\n",
       "      <td>99 min</td>\n",
       "      <td>When nerdy high schooler Dani finally attracts...</td>\n",
       "    </tr>\n",
       "    <tr>\n",
       "      <th>80060297</th>\n",
       "      <td>Manhattan Romance</td>\n",
       "      <td>Tom O'Brien</td>\n",
       "      <td>Tom O'Brien, Katherine Waterston, Caitlin Fitz...</td>\n",
       "      <td>2014</td>\n",
       "      <td>Comedies, Independent Movies, Romantic Movies</td>\n",
       "      <td>TV-14</td>\n",
       "      <td>98 min</td>\n",
       "      <td>A filmmaker working on a documentary about lov...</td>\n",
       "    </tr>\n",
       "  </tbody>\n",
       "</table>\n",
       "</div>"
      ],
      "text/plain": [
       "                      title          director  \\\n",
       "id                                              \n",
       "80125979       #realityhigh  Fernando Lebrija   \n",
       "80060297  Manhattan Romance       Tom O'Brien   \n",
       "\n",
       "                                               cast_members  year_released  \\\n",
       "id                                                                           \n",
       "80125979  Nesta Cooper, Kate Walsh, John Michael Higgins...           2017   \n",
       "80060297  Tom O'Brien, Katherine Waterston, Caitlin Fitz...           2014   \n",
       "\n",
       "                                          netflix_genre rating duration  \\\n",
       "id                                                                        \n",
       "80125979                                       Comedies  TV-14   99 min   \n",
       "80060297  Comedies, Independent Movies, Romantic Movies  TV-14   98 min   \n",
       "\n",
       "                                                description  \n",
       "id                                                           \n",
       "80125979  When nerdy high schooler Dani finally attracts...  \n",
       "80060297  A filmmaker working on a documentary about lov...  "
      ]
     },
     "execution_count": 5,
     "metadata": {},
     "output_type": "execute_result"
    }
   ],
   "source": [
    "# Create a filtered on the Netflix dataframe from specific columns\n",
    "netflix_columns = [\"show_id\", \"title\", \"director\", \"cast\", \"release_year\", \"listed_in\", \"rating\", \"duration\", \"description\"]\n",
    "netflix_transformed= netflix_df[netflix_columns].copy()\n",
    "\n",
    "# Rename the column headers\n",
    "netflix_transformed = netflix_transformed.rename(columns={\"show_id\": \"id\",\n",
    "                                                          \"listed_in\": \"netflix_genre\", \n",
    "                                                          \"release_year\": \"year_released\", \n",
    "                                                          \"cast\":\"cast_members\"})\n",
    "\n",
    "# Clean the data by dropping duplicates and setting the index\n",
    "netflix_transformed.drop_duplicates(\"id\", inplace=True)\n",
    "netflix_transformed.set_index(\"id\", inplace=True)\n",
    "\n",
    "netflix_transformed.head(2)"
   ]
  },
  {
   "cell_type": "code",
   "execution_count": 6,
   "metadata": {
    "scrolled": true
   },
   "outputs": [
    {
     "data": {
      "text/html": [
       "<div>\n",
       "<style scoped>\n",
       "    .dataframe tbody tr th:only-of-type {\n",
       "        vertical-align: middle;\n",
       "    }\n",
       "\n",
       "    .dataframe tbody tr th {\n",
       "        vertical-align: top;\n",
       "    }\n",
       "\n",
       "    .dataframe thead th {\n",
       "        text-align: right;\n",
       "    }\n",
       "</style>\n",
       "<table border=\"1\" class=\"dataframe\">\n",
       "  <thead>\n",
       "    <tr style=\"text-align: right;\">\n",
       "      <th></th>\n",
       "      <th>title</th>\n",
       "      <th>omdb_genre</th>\n",
       "      <th>language</th>\n",
       "      <th>awards</th>\n",
       "      <th>production</th>\n",
       "      <th>imdbrating</th>\n",
       "      <th>metascore</th>\n",
       "      <th>boxoffice</th>\n",
       "    </tr>\n",
       "    <tr>\n",
       "      <th>imdbid</th>\n",
       "      <th></th>\n",
       "      <th></th>\n",
       "      <th></th>\n",
       "      <th></th>\n",
       "      <th></th>\n",
       "      <th></th>\n",
       "      <th></th>\n",
       "      <th></th>\n",
       "    </tr>\n",
       "  </thead>\n",
       "  <tbody>\n",
       "    <tr>\n",
       "      <th>tt2608324</th>\n",
       "      <td>Manhattan Romance</td>\n",
       "      <td>Comedy, Drama, Romance</td>\n",
       "      <td>English</td>\n",
       "      <td>3 wins.</td>\n",
       "      <td>Beacon Films Inc.</td>\n",
       "      <td>5.5</td>\n",
       "      <td>NaN</td>\n",
       "      <td>NaN</td>\n",
       "    </tr>\n",
       "    <tr>\n",
       "      <th>tt1772264</th>\n",
       "      <td>Stonehearst Asylum</td>\n",
       "      <td>Drama, Horror, Thriller</td>\n",
       "      <td>English</td>\n",
       "      <td>1 win &amp; 1 nomination.</td>\n",
       "      <td>Millenium Entertainment</td>\n",
       "      <td>6.8</td>\n",
       "      <td>52.0</td>\n",
       "      <td>NaN</td>\n",
       "    </tr>\n",
       "  </tbody>\n",
       "</table>\n",
       "</div>"
      ],
      "text/plain": [
       "                        title               omdb_genre language  \\\n",
       "imdbid                                                            \n",
       "tt2608324   Manhattan Romance   Comedy, Drama, Romance  English   \n",
       "tt1772264  Stonehearst Asylum  Drama, Horror, Thriller  English   \n",
       "\n",
       "                          awards               production  imdbrating  \\\n",
       "imdbid                                                                  \n",
       "tt2608324                3 wins.        Beacon Films Inc.         5.5   \n",
       "tt1772264  1 win & 1 nomination.  Millenium Entertainment         6.8   \n",
       "\n",
       "           metascore boxoffice  \n",
       "imdbid                          \n",
       "tt2608324        NaN       NaN  \n",
       "tt1772264       52.0       NaN  "
      ]
     },
     "execution_count": 6,
     "metadata": {},
     "output_type": "execute_result"
    }
   ],
   "source": [
    " # Create a filtered on the Open Move DB dataframe from specific columns\n",
    "omdb_columns = [\"title\", \"genre\", \"language\", \"awards\", \"production\", \"imdbid\", \"imdbrating\", \"metascore\", \"boxoffice\"]\n",
    "omdb_transformed= omdb_df[omdb_columns].copy()\n",
    "\n",
    "omdb_transformed = omdb_transformed.rename(columns={\"genre\": \"omdb_genre\"})\n",
    "\n",
    "omdb_transformed[\"boxoffice\"]=omdb_transformed[\"boxoffice\"].str.replace('$', '')\n",
    "omdb_transformed[\"boxoffice\"]=omdb_transformed[\"boxoffice\"].str.replace(',', '')\n",
    "#omdb_transformed[\"boxoffice\"]=omdb_transformed[\"boxoffice\"].astype(float)\n",
    "\n",
    "# Clean the data by dropping duplicates and setting the index\n",
    "omdb_transformed.drop_duplicates(\"imdbid\", inplace=True)\n",
    "omdb_transformed.set_index(\"imdbid\", inplace=True)\n",
    "\n",
    "omdb_transformed.head(2)"
   ]
  },
  {
   "cell_type": "code",
   "execution_count": 7,
   "metadata": {},
   "outputs": [
    {
     "data": {
      "text/html": [
       "<div>\n",
       "<style scoped>\n",
       "    .dataframe tbody tr th:only-of-type {\n",
       "        vertical-align: middle;\n",
       "    }\n",
       "\n",
       "    .dataframe tbody tr th {\n",
       "        vertical-align: top;\n",
       "    }\n",
       "\n",
       "    .dataframe thead th {\n",
       "        text-align: right;\n",
       "    }\n",
       "</style>\n",
       "<table border=\"1\" class=\"dataframe\">\n",
       "  <thead>\n",
       "    <tr style=\"text-align: right;\">\n",
       "      <th></th>\n",
       "      <th>title</th>\n",
       "      <th>original_title</th>\n",
       "      <th>popularity</th>\n",
       "      <th>vote_count</th>\n",
       "      <th>vote_average</th>\n",
       "      <th>poster_path</th>\n",
       "    </tr>\n",
       "  </thead>\n",
       "  <tbody>\n",
       "    <tr>\n",
       "      <th>0</th>\n",
       "      <td>Manhattan Romance</td>\n",
       "      <td>Manhattan Romance</td>\n",
       "      <td>3.765</td>\n",
       "      <td>24</td>\n",
       "      <td>4.8</td>\n",
       "      <td>na</td>\n",
       "    </tr>\n",
       "    <tr>\n",
       "      <th>1</th>\n",
       "      <td>Stonehearst Asylum</td>\n",
       "      <td>Stonehearst Asylum</td>\n",
       "      <td>17.405</td>\n",
       "      <td>817</td>\n",
       "      <td>6.7</td>\n",
       "      <td>https://image.tmdb.org/t/p/w500/fZxGCCQ0NAtrae...</td>\n",
       "    </tr>\n",
       "  </tbody>\n",
       "</table>\n",
       "</div>"
      ],
      "text/plain": [
       "                title      original_title  popularity  vote_count  \\\n",
       "0   Manhattan Romance   Manhattan Romance       3.765          24   \n",
       "1  Stonehearst Asylum  Stonehearst Asylum      17.405         817   \n",
       "\n",
       "   vote_average                                        poster_path  \n",
       "0           4.8                                                 na  \n",
       "1           6.7  https://image.tmdb.org/t/p/w500/fZxGCCQ0NAtrae...  "
      ]
     },
     "execution_count": 7,
     "metadata": {},
     "output_type": "execute_result"
    }
   ],
   "source": [
    " # Create a filtered on the Open Move DB dataframe from specific columns\n",
    "tmdb_columns = [\"title\", \"original_title\", \"popularity\", \"vote_count\", \"vote_average\", \"poster_path\"]\n",
    "tmdb_transformed= tmdb_df[tmdb_columns].copy()\n",
    "\n",
    "tmdb_transformed.head(2)"
   ]
  },
  {
   "cell_type": "markdown",
   "metadata": {},
   "source": [
    "### Create a database connection ###"
   ]
  },
  {
   "cell_type": "code",
   "execution_count": 8,
   "metadata": {},
   "outputs": [],
   "source": [
    "connection_string = \"postgres:postgres@localhost:5432/movies_db\"\n",
    "engine = create_engine(f'postgresql://{connection_string}')"
   ]
  },
  {
   "cell_type": "code",
   "execution_count": 9,
   "metadata": {},
   "outputs": [
    {
     "data": {
      "text/plain": [
       "['omdb', 'netflix', 'tmdb']"
      ]
     },
     "execution_count": 9,
     "metadata": {},
     "output_type": "execute_result"
    }
   ],
   "source": [
    "# Confirm tables were created\n",
    "engine.table_names()"
   ]
  },
  {
   "cell_type": "markdown",
   "metadata": {},
   "source": [
    "### Load Transformed DF data into the DB ###"
   ]
  },
  {
   "cell_type": "code",
   "execution_count": 10,
   "metadata": {},
   "outputs": [],
   "source": [
    "netflix_transformed.to_sql(name='netflix', con=engine, if_exists='append', index=True)"
   ]
  },
  {
   "cell_type": "code",
   "execution_count": 11,
   "metadata": {},
   "outputs": [],
   "source": [
    "omdb_transformed.to_sql(name='omdb', con=engine, if_exists='append', index=True)"
   ]
  },
  {
   "cell_type": "code",
   "execution_count": 12,
   "metadata": {},
   "outputs": [],
   "source": [
    "tmdb_transformed.to_sql(name='tmdb', con=engine, if_exists='append', index=False)"
   ]
  },
  {
   "cell_type": "markdown",
   "metadata": {},
   "source": [
    "### Merge Data into a single functional table ###"
   ]
  },
  {
   "cell_type": "code",
   "execution_count": 13,
   "metadata": {},
   "outputs": [
    {
     "data": {
      "text/html": [
       "<div>\n",
       "<style scoped>\n",
       "    .dataframe tbody tr th:only-of-type {\n",
       "        vertical-align: middle;\n",
       "    }\n",
       "\n",
       "    .dataframe tbody tr th {\n",
       "        vertical-align: top;\n",
       "    }\n",
       "\n",
       "    .dataframe thead th {\n",
       "        text-align: right;\n",
       "    }\n",
       "</style>\n",
       "<table border=\"1\" class=\"dataframe\">\n",
       "  <thead>\n",
       "    <tr style=\"text-align: right;\">\n",
       "      <th></th>\n",
       "      <th>title</th>\n",
       "      <th>director</th>\n",
       "      <th>cast_members</th>\n",
       "      <th>year_released</th>\n",
       "      <th>netflix_genre</th>\n",
       "      <th>rating</th>\n",
       "      <th>duration</th>\n",
       "      <th>description</th>\n",
       "      <th>omdb_genre</th>\n",
       "      <th>language</th>\n",
       "      <th>awards</th>\n",
       "      <th>production</th>\n",
       "      <th>imdbrating</th>\n",
       "      <th>metascore</th>\n",
       "      <th>boxoffice</th>\n",
       "    </tr>\n",
       "  </thead>\n",
       "  <tbody>\n",
       "    <tr>\n",
       "      <th>0</th>\n",
       "      <td>#realityhigh</td>\n",
       "      <td>Fernando Lebrija</td>\n",
       "      <td>Nesta Cooper, Kate Walsh, John Michael Higgins...</td>\n",
       "      <td>2017.0</td>\n",
       "      <td>Comedies</td>\n",
       "      <td>TV-14</td>\n",
       "      <td>99 min</td>\n",
       "      <td>When nerdy high schooler Dani finally attracts...</td>\n",
       "      <td>NaN</td>\n",
       "      <td>NaN</td>\n",
       "      <td>NaN</td>\n",
       "      <td>NaN</td>\n",
       "      <td>NaN</td>\n",
       "      <td>NaN</td>\n",
       "      <td>NaN</td>\n",
       "    </tr>\n",
       "    <tr>\n",
       "      <th>1</th>\n",
       "      <td>Manhattan Romance</td>\n",
       "      <td>Tom O'Brien</td>\n",
       "      <td>Tom O'Brien, Katherine Waterston, Caitlin Fitz...</td>\n",
       "      <td>2014.0</td>\n",
       "      <td>Comedies, Independent Movies, Romantic Movies</td>\n",
       "      <td>TV-14</td>\n",
       "      <td>98 min</td>\n",
       "      <td>A filmmaker working on a documentary about lov...</td>\n",
       "      <td>Comedy, Drama, Romance</td>\n",
       "      <td>English</td>\n",
       "      <td>3 wins.</td>\n",
       "      <td>Beacon Films Inc.</td>\n",
       "      <td>5.5</td>\n",
       "      <td>NaN</td>\n",
       "      <td>NaN</td>\n",
       "    </tr>\n",
       "  </tbody>\n",
       "</table>\n",
       "</div>"
      ],
      "text/plain": [
       "               title          director  \\\n",
       "0       #realityhigh  Fernando Lebrija   \n",
       "1  Manhattan Romance       Tom O'Brien   \n",
       "\n",
       "                                        cast_members  year_released  \\\n",
       "0  Nesta Cooper, Kate Walsh, John Michael Higgins...         2017.0   \n",
       "1  Tom O'Brien, Katherine Waterston, Caitlin Fitz...         2014.0   \n",
       "\n",
       "                                   netflix_genre rating duration  \\\n",
       "0                                       Comedies  TV-14   99 min   \n",
       "1  Comedies, Independent Movies, Romantic Movies  TV-14   98 min   \n",
       "\n",
       "                                         description              omdb_genre  \\\n",
       "0  When nerdy high schooler Dani finally attracts...                     NaN   \n",
       "1  A filmmaker working on a documentary about lov...  Comedy, Drama, Romance   \n",
       "\n",
       "  language   awards         production  imdbrating  metascore boxoffice  \n",
       "0      NaN      NaN                NaN         NaN        NaN       NaN  \n",
       "1  English  3 wins.  Beacon Films Inc.         5.5        NaN       NaN  "
      ]
     },
     "execution_count": 13,
     "metadata": {},
     "output_type": "execute_result"
    }
   ],
   "source": [
    "merge_table1 = pd.merge(netflix_transformed, omdb_transformed, on=\"title\", how=\"outer\")\n",
    "merge_table1.head(2)"
   ]
  },
  {
   "cell_type": "code",
   "execution_count": 14,
   "metadata": {
    "scrolled": true
   },
   "outputs": [
    {
     "data": {
      "text/html": [
       "<div>\n",
       "<style scoped>\n",
       "    .dataframe tbody tr th:only-of-type {\n",
       "        vertical-align: middle;\n",
       "    }\n",
       "\n",
       "    .dataframe tbody tr th {\n",
       "        vertical-align: top;\n",
       "    }\n",
       "\n",
       "    .dataframe thead th {\n",
       "        text-align: right;\n",
       "    }\n",
       "</style>\n",
       "<table border=\"1\" class=\"dataframe\">\n",
       "  <thead>\n",
       "    <tr style=\"text-align: right;\">\n",
       "      <th></th>\n",
       "      <th>title</th>\n",
       "      <th>director</th>\n",
       "      <th>cast_members</th>\n",
       "      <th>year_released</th>\n",
       "      <th>netflix_genre</th>\n",
       "      <th>rating</th>\n",
       "      <th>duration</th>\n",
       "      <th>description</th>\n",
       "      <th>omdb_genre</th>\n",
       "      <th>language</th>\n",
       "      <th>awards</th>\n",
       "      <th>production</th>\n",
       "      <th>imdbrating</th>\n",
       "      <th>metascore</th>\n",
       "      <th>boxoffice</th>\n",
       "      <th>original_title</th>\n",
       "      <th>popularity</th>\n",
       "      <th>vote_count</th>\n",
       "      <th>vote_average</th>\n",
       "      <th>poster_path</th>\n",
       "    </tr>\n",
       "  </thead>\n",
       "  <tbody>\n",
       "    <tr>\n",
       "      <th>0</th>\n",
       "      <td>#realityhigh</td>\n",
       "      <td>Fernando Lebrija</td>\n",
       "      <td>Nesta Cooper, Kate Walsh, John Michael Higgins...</td>\n",
       "      <td>2017.0</td>\n",
       "      <td>Comedies</td>\n",
       "      <td>TV-14</td>\n",
       "      <td>99 min</td>\n",
       "      <td>When nerdy high schooler Dani finally attracts...</td>\n",
       "      <td>NaN</td>\n",
       "      <td>NaN</td>\n",
       "      <td>NaN</td>\n",
       "      <td>NaN</td>\n",
       "      <td>NaN</td>\n",
       "      <td>NaN</td>\n",
       "      <td>NaN</td>\n",
       "      <td>NaN</td>\n",
       "      <td>NaN</td>\n",
       "      <td>NaN</td>\n",
       "      <td>NaN</td>\n",
       "      <td>NaN</td>\n",
       "    </tr>\n",
       "    <tr>\n",
       "      <th>1</th>\n",
       "      <td>Manhattan Romance</td>\n",
       "      <td>Tom O'Brien</td>\n",
       "      <td>Tom O'Brien, Katherine Waterston, Caitlin Fitz...</td>\n",
       "      <td>2014.0</td>\n",
       "      <td>Comedies, Independent Movies, Romantic Movies</td>\n",
       "      <td>TV-14</td>\n",
       "      <td>98 min</td>\n",
       "      <td>A filmmaker working on a documentary about lov...</td>\n",
       "      <td>Comedy, Drama, Romance</td>\n",
       "      <td>English</td>\n",
       "      <td>3 wins.</td>\n",
       "      <td>Beacon Films Inc.</td>\n",
       "      <td>5.5</td>\n",
       "      <td>NaN</td>\n",
       "      <td>NaN</td>\n",
       "      <td>Manhattan Romance</td>\n",
       "      <td>3.765</td>\n",
       "      <td>24.0</td>\n",
       "      <td>4.8</td>\n",
       "      <td>na</td>\n",
       "    </tr>\n",
       "  </tbody>\n",
       "</table>\n",
       "</div>"
      ],
      "text/plain": [
       "               title          director  \\\n",
       "0       #realityhigh  Fernando Lebrija   \n",
       "1  Manhattan Romance       Tom O'Brien   \n",
       "\n",
       "                                        cast_members  year_released  \\\n",
       "0  Nesta Cooper, Kate Walsh, John Michael Higgins...         2017.0   \n",
       "1  Tom O'Brien, Katherine Waterston, Caitlin Fitz...         2014.0   \n",
       "\n",
       "                                   netflix_genre rating duration  \\\n",
       "0                                       Comedies  TV-14   99 min   \n",
       "1  Comedies, Independent Movies, Romantic Movies  TV-14   98 min   \n",
       "\n",
       "                                         description              omdb_genre  \\\n",
       "0  When nerdy high schooler Dani finally attracts...                     NaN   \n",
       "1  A filmmaker working on a documentary about lov...  Comedy, Drama, Romance   \n",
       "\n",
       "  language   awards         production  imdbrating  metascore boxoffice  \\\n",
       "0      NaN      NaN                NaN         NaN        NaN       NaN   \n",
       "1  English  3 wins.  Beacon Films Inc.         5.5        NaN       NaN   \n",
       "\n",
       "      original_title  popularity  vote_count  vote_average poster_path  \n",
       "0                NaN         NaN         NaN           NaN         NaN  \n",
       "1  Manhattan Romance       3.765        24.0           4.8          na  "
      ]
     },
     "execution_count": 14,
     "metadata": {},
     "output_type": "execute_result"
    }
   ],
   "source": [
    "final_table = pd.merge(merge_table1, tmdb_transformed, on=\"title\", how=\"outer\")\n",
    "final_table_clean = final_table.drop_duplicates(\"title\")\n",
    "final_table_clean.head(2)"
   ]
  },
  {
   "cell_type": "code",
   "execution_count": 15,
   "metadata": {
    "scrolled": true
   },
   "outputs": [],
   "source": [
    "box_office_movies = final_table_clean.dropna(subset=[\"boxoffice\"])\n",
    "box_office_movies = box_office_movies.loc[box_office_movies[\"boxoffice\"]!='na']\n",
    "box_office_movies[\"boxoffice\"] = box_office_movies[\"boxoffice\"].astype(float)"
   ]
  },
  {
   "cell_type": "markdown",
   "metadata": {},
   "source": [
    "### Begin Graphing ###"
   ]
  },
  {
   "cell_type": "code",
   "execution_count": 16,
   "metadata": {
    "scrolled": false
   },
   "outputs": [
    {
     "name": "stdout",
     "output_type": "stream",
     "text": [
      "The r-squared is: 0.02749812468449879\n"
     ]
    },
    {
     "data": {
      "image/png": "[encoded data removed]",
      "text/plain": [
       "<Figure size 432x288 with 1 Axes>"
      ]
     },
     "metadata": {
      "needs_background": "light"
     },
     "output_type": "display_data"
    }
   ],
   "source": [
    "# Scatter plot Box Office Revenue vs IMDB Rating\n",
    "x_values = box_office_movies['imdbrating']\n",
    "y_values = box_office_movies['boxoffice']\n",
    "(slope, intercept, rvalue, pvalue, stderr) = linregress(x_values, y_values)\n",
    "regress_values = x_values * slope + intercept\n",
    "line_eq = \"y = \" + str(round(slope,2)) + \"x + \" + str(round(intercept,2))\n",
    "plt.scatter(x_values,y_values)\n",
    "plt.plot(x_values,regress_values,\"r-\")\n",
    "plt.annotate(line_eq,(1.5,600000000),fontsize=10,color=\"red\")\n",
    "plt.title('Box Office Revenue vs. IMDb Rating')\n",
    "plt.xlabel('Imdb Rating')\n",
    "plt.ylabel('Box Office Revenue')\n",
    "#Turn off the scientific notation (ie8)\n",
    "plt.ticklabel_format(style=\"Plain\")\n",
    "print(f\"The r-squared is: {rvalue**2}\")\n",
    "plt.savefig('Resources/Chart - Box Office vs IMDB Rating.png')\n",
    "plt.show()"
   ]
  },
  {
   "cell_type": "code",
   "execution_count": 17,
   "metadata": {
    "scrolled": true
   },
   "outputs": [],
   "source": [
    "# Drop NA from Popularity\n",
    "box_office_popularity = box_office_movies.dropna(subset=[\"popularity\"])\n",
    "\n",
    "# Drop NA from Vote Count\n",
    "box_office_vote_count = box_office_movies.dropna(subset=[\"vote_count\"])"
   ]
  },
  {
   "cell_type": "code",
   "execution_count": 18,
   "metadata": {},
   "outputs": [
    {
     "name": "stdout",
     "output_type": "stream",
     "text": [
      "The r-squared is: 0.6189010072905601\n"
     ]
    },
    {
     "data": {
      "image/png": "[encoded data removed]",
      "text/plain": [
       "<Figure size 432x288 with 1 Axes>"
      ]
     },
     "metadata": {
      "needs_background": "light"
     },
     "output_type": "display_data"
    }
   ],
   "source": [
    "# Scatter Plot Vote Count vs. Box Office\n",
    "x_values = box_office_vote_count['vote_count']\n",
    "y_values = box_office_vote_count['boxoffice']\n",
    "(slope, intercept, rvalue, pvalue, stderr) = linregress(x_values, y_values)\n",
    "regress_values = x_values * slope + intercept\n",
    "line_eq = \"y = \" + str(round(slope,2)) + \"x + \" + str(round(intercept,2))\n",
    "plt.scatter(x_values,y_values)\n",
    "plt.plot(x_values,regress_values,\"r-\")\n",
    "plt.annotate(line_eq,(0,600000000),fontsize=10,color=\"red\")\n",
    "plt.title('Box Office Revenue vs. TMDB Vote Count')\n",
    "plt.xlabel('TMDB Vote Count')\n",
    "plt.ylabel('Box Office Revenue')\n",
    "#Turn off the scientific notation (ie8)\n",
    "plt.ticklabel_format(style=\"Plain\")\n",
    "print(f\"The r-squared is: {rvalue**2}\")\n",
    "plt.savefig('Resources/Chart - Box Office vs TMDB Vote Count.png')\n",
    "plt.show()"
   ]
  },
  {
   "cell_type": "code",
   "execution_count": 19,
   "metadata": {},
   "outputs": [],
   "source": [
    "#drop na from popularity and imdb rating columns:\n",
    "popularity_clean = final_table_clean.dropna(subset=[\"popularity\"])\n",
    "popularity_imdb_rating_clean = popularity_clean.dropna(subset=[\"imdbrating\"])"
   ]
  },
  {
   "cell_type": "code",
   "execution_count": 20,
   "metadata": {
    "scrolled": true
   },
   "outputs": [
    {
     "name": "stdout",
     "output_type": "stream",
     "text": [
      "The r-squared is: 0.03227586060151234\n"
     ]
    },
    {
     "data": {
      "image/png": "[encoded data removed]",
      "text/plain": [
       "<Figure size 432x288 with 1 Axes>"
      ]
     },
     "metadata": {
      "needs_background": "light"
     },
     "output_type": "display_data"
    }
   ],
   "source": [
    "# Scatter Plot IMDB Ratings vs. Popularity\n",
    "x_values = popularity_imdb_rating_clean['popularity']\n",
    "y_values = popularity_imdb_rating_clean['imdbrating']\n",
    "(slope, intercept, rvalue, pvalue, stderr) = linregress(x_values, y_values)\n",
    "regress_values = x_values * slope + intercept\n",
    "line_eq = \"y = \" + str(round(slope,2)) + \"x + \" + str(round(intercept,2))\n",
    "plt.scatter(x_values,y_values)\n",
    "plt.plot(x_values,regress_values,\"r-\")\n",
    "plt.annotate(line_eq,(40,2),fontsize=10,color=\"red\")\n",
    "plt.title('IMDb Rating vs. TMDB Rating')\n",
    "plt.xlabel('TMDB Popularity')\n",
    "plt.ylabel('IMDb Rating')\n",
    "print(f\"The r-squared is: {rvalue**2}\")\n",
    "plt.savefig('Resources/Chart - IMDB Rating vs TMDB Rating.png')\n",
    "plt.show()"
   ]
  },
  {
   "cell_type": "code",
   "execution_count": 21,
   "metadata": {},
   "outputs": [],
   "source": [
    "#drop na from metascore and imdb rating columns:\n",
    "metascore_clean = final_table_clean.dropna(subset=[\"metascore\"])\n",
    "metascore_imdb_rating_clean = metascore_clean.dropna(subset=[\"imdbrating\"])"
   ]
  },
  {
   "cell_type": "code",
   "execution_count": 22,
   "metadata": {},
   "outputs": [
    {
     "name": "stdout",
     "output_type": "stream",
     "text": [
      "The r-squared is: 0.4117996177648918\n"
     ]
    },
    {
     "data": {
      "image/png": "[encoded data removed]",
      "text/plain": [
       "<Figure size 432x288 with 1 Axes>"
      ]
     },
     "metadata": {
      "needs_background": "light"
     },
     "output_type": "display_data"
    }
   ],
   "source": [
    "# Scatter Plot IMDB Rating and metascore \n",
    "x_values = metascore_imdb_rating_clean['imdbrating']\n",
    "y_values = metascore_imdb_rating_clean['metascore']\n",
    "(slope, intercept, rvalue, pvalue, stderr) = linregress(x_values, y_values)\n",
    "regress_values = x_values * slope + intercept\n",
    "line_eq = \"y = \" + str(round(slope,2)) + \"x + \" + str(round(intercept,2))\n",
    "plt.scatter(x_values,y_values)\n",
    "plt.plot(x_values,regress_values,\"r-\")\n",
    "plt.annotate(line_eq,(2,95),fontsize=10,color=\"red\")\n",
    "plt.title('Metascore vs. IMDB Rating')\n",
    "plt.xlabel('IMDB Rating')\n",
    "plt.ylabel('Metascore')\n",
    "print(f\"The r-squared is: {rvalue**2}\")\n",
    "plt.savefig('Resources/Chart - Metascore vs IMDB Rating.png')\n",
    "plt.show()"
   ]
  },
  {
   "cell_type": "code",
   "execution_count": 23,
   "metadata": {
    "scrolled": true
   },
   "outputs": [],
   "source": [
    "#drop na from metascore and tmdb rating columns:\n",
    "metascore_tmdb_rating_clean = metascore_clean.dropna(subset=[\"vote_average\"])"
   ]
  },
  {
   "cell_type": "code",
   "execution_count": 24,
   "metadata": {},
   "outputs": [
    {
     "name": "stdout",
     "output_type": "stream",
     "text": [
      "The r-squared is: 0.33088010463108447\n"
     ]
    },
    {
     "data": {
      "image/png": "[encoded data removed]",
      "text/plain": [
       "<Figure size 432x288 with 1 Axes>"
      ]
     },
     "metadata": {
      "needs_background": "light"
     },
     "output_type": "display_data"
    }
   ],
   "source": [
    "# Scatter plot vote average vs. Metascore\n",
    "x_values = metascore_tmdb_rating_clean['vote_average']\n",
    "y_values = metascore_tmdb_rating_clean['metascore']\n",
    "(slope, intercept, rvalue, pvalue, stderr) = linregress(x_values, y_values)\n",
    "regress_values = x_values * slope + intercept\n",
    "line_eq = \"y = \" + str(round(slope,2)) + \"x + \" + str(round(intercept,2))\n",
    "plt.scatter(x_values,y_values)\n",
    "plt.plot(x_values,regress_values,\"r-\")\n",
    "plt.annotate(line_eq,(7,20),fontsize=10,color=\"red\")\n",
    "plt.title('Metascore vs. TMDB Vote Average')\n",
    "plt.xlabel('TMDB Vote Average')\n",
    "plt.ylabel('Metascore')\n",
    "print(f\"The r-squared is: {rvalue**2}\")\n",
    "plt.savefig('Resources/Chart - Metascore vs TMDB Rating.png')\n",
    "plt.show()"
   ]
  }
 ],
 "metadata": {
  "kernelspec": {
   "display_name": "Python 3",
   "language": "python",
   "name": "python3"
  },
  "language_info": {
   "codemirror_mode": {
    "name": "ipython",
    "version": 3
   },
   "file_extension": ".py",
   "mimetype": "text/x-python",
   "name": "python",
   "nbconvert_exporter": "python",
   "pygments_lexer": "ipython3",
   "version": "3.7.6"
  }
 },
 "nbformat": 4,
 "nbformat_minor": 4
}
